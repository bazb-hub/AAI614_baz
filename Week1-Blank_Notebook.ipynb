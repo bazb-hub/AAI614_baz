{
 "cells": [
  {
   "cell_type": "markdown",
   "id": "77266c60-169a-48d2-a4dc-3332a9f64506",
   "metadata": {},
   "source": [
    "# AAI614: Sample Notebook for GitHub\n",
    "\n",
    "*Notebook 1.2: For GitHub Repository*\n",
    "\n",
    "<a href=\"https://colab.research.google.com/github/\" target=\"_parent\"><img src=\"https://colab.research.google.com/assets/colab-badge.svg\" alt=\"Open In Colab\"/></a>\n",
    "\n",
    "*This a Blank notebook*\n"
   ]
  },
  {
   "cell_type": "code",
   "execution_count": null,
   "id": "53ff446a-e7aa-4332-beba-ed0ea80bd419",
   "metadata": {},
   "outputs": [],
   "source": []
  }
 ],
 "metadata": {
  "kernelspec": {
   "display_name": "Python 3 (ipykernel)",
   "language": "python",
   "name": "python3"
  },
  "language_info": {
   "codemirror_mode": {
    "name": "ipython",
    "version": 3
   },
   "file_extension": ".py",
   "mimetype": "text/x-python",
   "name": "python",
   "nbconvert_exporter": "python",
   "pygments_lexer": "ipython3",
   "version": "3.12.10"
  }
 },
 "nbformat": 4,
 "nbformat_minor": 5
}
